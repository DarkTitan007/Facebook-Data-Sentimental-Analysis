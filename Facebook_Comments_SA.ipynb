{
  "nbformat": 4,
  "nbformat_minor": 0,
  "metadata": {
    "colab": {
      "provenance": [],
      "authorship_tag": "ABX9TyMOPebdqKb57u/WnVGhLeEN",
      "include_colab_link": true
    },
    "kernelspec": {
      "name": "python3",
      "display_name": "Python 3"
    },
    "language_info": {
      "name": "python"
    }
  },
  "cells": [
    {
      "cell_type": "markdown",
      "metadata": {
        "id": "view-in-github",
        "colab_type": "text"
      },
      "source": [
        "<a href=\"https://colab.research.google.com/github/DarkTitan007/Facebook-Data-Sentimental-Analysis/blob/main/Facebook_Comments_SA.ipynb\" target=\"_parent\"><img src=\"https://colab.research.google.com/assets/colab-badge.svg\" alt=\"Open In Colab\"/></a>"
      ]
    },
    {
      "cell_type": "code",
      "source": [
        "from sklearn.feature_extraction.text import CountVectorizer\n",
        "from keras.preprocessing.text import Tokenizer\n",
        "from keras_preprocessing.sequence import pad_sequences\n",
        "from keras.models import Sequential\n",
        "from keras.layers import Dense, Embedding, LSTM, SpatialDropout1D\n",
        "from sklearn.model_selection import train_test_split\n",
        "from keras.utils.np_utils import to_categorical\n",
        "import pandas as pd\n",
        "import numpy as np\n",
        "import matplotlib.pyplot as plt"
      ],
      "metadata": {
        "id": "gntR_V1MbxIu"
      },
      "execution_count": 78,
      "outputs": []
    },
    {
      "cell_type": "markdown",
      "source": [
        "**Facebook comments Sentiment analysis**"
      ],
      "metadata": {
        "id": "8I66DiI1eWpp"
      }
    },
    {
      "cell_type": "markdown",
      "source": [
        "The aim of this notebook is to train and test a Neural Network to detect, if a Facebook comment is either positive or negative in nature, based on a sample of Facebook comments with attatched sentiment ratings."
      ],
      "metadata": {
        "id": "wTU6oTMUeeNH"
      }
    },
    {
      "cell_type": "code",
      "source": [
        "fb = pd.read_csv('/fb_sentiment.csv')"
      ],
      "metadata": {
        "id": "-Y0C4J8Lb3xY"
      },
      "execution_count": 79,
      "outputs": []
    },
    {
      "cell_type": "markdown",
      "source": [
        "**Exploring Data**"
      ],
      "metadata": {
        "id": "SeBYYSarekyn"
      }
    },
    {
      "cell_type": "markdown",
      "source": [
        "The data that we have chosen are Facebook-comments (FBPost) , with sentiments (Label) rated positive, negative or other. There are rows in the dataset, with an uneven distribution of sentiments.\n",
        "\n",
        "In this section, some minor cleaning will take place."
      ],
      "metadata": {
        "id": "vrPYGLV0eoYD"
      }
    },
    {
      "cell_type": "code",
      "source": [
        "fb.head()"
      ],
      "metadata": {
        "colab": {
          "base_uri": "https://localhost:8080/",
          "height": 206
        },
        "id": "_K9cyjCeb_Qg",
        "outputId": "87c07fa1-9d70-4b68-ae27-dbf24cf7fed4"
      },
      "execution_count": 80,
      "outputs": [
        {
          "output_type": "execute_result",
          "data": {
            "text/plain": [
              "   Unnamed: 0                                             FBPost Label\n",
              "0           0  Drug Runners and  a U.S. Senator have somethin...     O\n",
              "1           1  Heres a single, to add, to Kindle. Just read t...     O\n",
              "2           2  If you tire of Non-Fiction.. Check out http://...     O\n",
              "3           3    Ghost of Round Island is supposedly nonfiction.     O\n",
              "4           4  Why is Barnes and Nobles version of the Kindle...     N"
            ],
            "text/html": [
              "\n",
              "  <div id=\"df-694924d0-5165-450a-a54c-9d49bdb9ef17\">\n",
              "    <div class=\"colab-df-container\">\n",
              "      <div>\n",
              "<style scoped>\n",
              "    .dataframe tbody tr th:only-of-type {\n",
              "        vertical-align: middle;\n",
              "    }\n",
              "\n",
              "    .dataframe tbody tr th {\n",
              "        vertical-align: top;\n",
              "    }\n",
              "\n",
              "    .dataframe thead th {\n",
              "        text-align: right;\n",
              "    }\n",
              "</style>\n",
              "<table border=\"1\" class=\"dataframe\">\n",
              "  <thead>\n",
              "    <tr style=\"text-align: right;\">\n",
              "      <th></th>\n",
              "      <th>Unnamed: 0</th>\n",
              "      <th>FBPost</th>\n",
              "      <th>Label</th>\n",
              "    </tr>\n",
              "  </thead>\n",
              "  <tbody>\n",
              "    <tr>\n",
              "      <th>0</th>\n",
              "      <td>0</td>\n",
              "      <td>Drug Runners and  a U.S. Senator have somethin...</td>\n",
              "      <td>O</td>\n",
              "    </tr>\n",
              "    <tr>\n",
              "      <th>1</th>\n",
              "      <td>1</td>\n",
              "      <td>Heres a single, to add, to Kindle. Just read t...</td>\n",
              "      <td>O</td>\n",
              "    </tr>\n",
              "    <tr>\n",
              "      <th>2</th>\n",
              "      <td>2</td>\n",
              "      <td>If you tire of Non-Fiction.. Check out http://...</td>\n",
              "      <td>O</td>\n",
              "    </tr>\n",
              "    <tr>\n",
              "      <th>3</th>\n",
              "      <td>3</td>\n",
              "      <td>Ghost of Round Island is supposedly nonfiction.</td>\n",
              "      <td>O</td>\n",
              "    </tr>\n",
              "    <tr>\n",
              "      <th>4</th>\n",
              "      <td>4</td>\n",
              "      <td>Why is Barnes and Nobles version of the Kindle...</td>\n",
              "      <td>N</td>\n",
              "    </tr>\n",
              "  </tbody>\n",
              "</table>\n",
              "</div>\n",
              "      <button class=\"colab-df-convert\" onclick=\"convertToInteractive('df-694924d0-5165-450a-a54c-9d49bdb9ef17')\"\n",
              "              title=\"Convert this dataframe to an interactive table.\"\n",
              "              style=\"display:none;\">\n",
              "        \n",
              "  <svg xmlns=\"http://www.w3.org/2000/svg\" height=\"24px\"viewBox=\"0 0 24 24\"\n",
              "       width=\"24px\">\n",
              "    <path d=\"M0 0h24v24H0V0z\" fill=\"none\"/>\n",
              "    <path d=\"M18.56 5.44l.94 2.06.94-2.06 2.06-.94-2.06-.94-.94-2.06-.94 2.06-2.06.94zm-11 1L8.5 8.5l.94-2.06 2.06-.94-2.06-.94L8.5 2.5l-.94 2.06-2.06.94zm10 10l.94 2.06.94-2.06 2.06-.94-2.06-.94-.94-2.06-.94 2.06-2.06.94z\"/><path d=\"M17.41 7.96l-1.37-1.37c-.4-.4-.92-.59-1.43-.59-.52 0-1.04.2-1.43.59L10.3 9.45l-7.72 7.72c-.78.78-.78 2.05 0 2.83L4 21.41c.39.39.9.59 1.41.59.51 0 1.02-.2 1.41-.59l7.78-7.78 2.81-2.81c.8-.78.8-2.07 0-2.86zM5.41 20L4 18.59l7.72-7.72 1.47 1.35L5.41 20z\"/>\n",
              "  </svg>\n",
              "      </button>\n",
              "      \n",
              "  <style>\n",
              "    .colab-df-container {\n",
              "      display:flex;\n",
              "      flex-wrap:wrap;\n",
              "      gap: 12px;\n",
              "    }\n",
              "\n",
              "    .colab-df-convert {\n",
              "      background-color: #E8F0FE;\n",
              "      border: none;\n",
              "      border-radius: 50%;\n",
              "      cursor: pointer;\n",
              "      display: none;\n",
              "      fill: #1967D2;\n",
              "      height: 32px;\n",
              "      padding: 0 0 0 0;\n",
              "      width: 32px;\n",
              "    }\n",
              "\n",
              "    .colab-df-convert:hover {\n",
              "      background-color: #E2EBFA;\n",
              "      box-shadow: 0px 1px 2px rgba(60, 64, 67, 0.3), 0px 1px 3px 1px rgba(60, 64, 67, 0.15);\n",
              "      fill: #174EA6;\n",
              "    }\n",
              "\n",
              "    [theme=dark] .colab-df-convert {\n",
              "      background-color: #3B4455;\n",
              "      fill: #D2E3FC;\n",
              "    }\n",
              "\n",
              "    [theme=dark] .colab-df-convert:hover {\n",
              "      background-color: #434B5C;\n",
              "      box-shadow: 0px 1px 3px 1px rgba(0, 0, 0, 0.15);\n",
              "      filter: drop-shadow(0px 1px 2px rgba(0, 0, 0, 0.3));\n",
              "      fill: #FFFFFF;\n",
              "    }\n",
              "  </style>\n",
              "\n",
              "      <script>\n",
              "        const buttonEl =\n",
              "          document.querySelector('#df-694924d0-5165-450a-a54c-9d49bdb9ef17 button.colab-df-convert');\n",
              "        buttonEl.style.display =\n",
              "          google.colab.kernel.accessAllowed ? 'block' : 'none';\n",
              "\n",
              "        async function convertToInteractive(key) {\n",
              "          const element = document.querySelector('#df-694924d0-5165-450a-a54c-9d49bdb9ef17');\n",
              "          const dataTable =\n",
              "            await google.colab.kernel.invokeFunction('convertToInteractive',\n",
              "                                                     [key], {});\n",
              "          if (!dataTable) return;\n",
              "\n",
              "          const docLinkHtml = 'Like what you see? Visit the ' +\n",
              "            '<a target=\"_blank\" href=https://colab.research.google.com/notebooks/data_table.ipynb>data table notebook</a>'\n",
              "            + ' to learn more about interactive tables.';\n",
              "          element.innerHTML = '';\n",
              "          dataTable['output_type'] = 'display_data';\n",
              "          await google.colab.output.renderOutput(dataTable, element);\n",
              "          const docLink = document.createElement('div');\n",
              "          docLink.innerHTML = docLinkHtml;\n",
              "          element.appendChild(docLink);\n",
              "        }\n",
              "      </script>\n",
              "    </div>\n",
              "  </div>\n",
              "  "
            ]
          },
          "metadata": {},
          "execution_count": 80
        }
      ]
    },
    {
      "cell_type": "code",
      "source": [
        "# lower-casing the coloumn names\n",
        "fb.columns = map(str.lower, fb.columns)"
      ],
      "metadata": {
        "id": "CLcAvaugcEDJ"
      },
      "execution_count": 81,
      "outputs": []
    },
    {
      "cell_type": "code",
      "source": [
        "# checkin the shape of the DF\n",
        "fb.shape"
      ],
      "metadata": {
        "colab": {
          "base_uri": "https://localhost:8080/"
        },
        "id": "jxureIF_cFs8",
        "outputId": "afa28379-321c-4c57-b2f5-76a274031f39"
      },
      "execution_count": 82,
      "outputs": [
        {
          "output_type": "execute_result",
          "data": {
            "text/plain": [
              "(1000, 3)"
            ]
          },
          "metadata": {},
          "execution_count": 82
        }
      ]
    },
    {
      "cell_type": "markdown",
      "source": [
        "**Data Preparation**"
      ],
      "metadata": {
        "id": "sYNievLSetCr"
      }
    },
    {
      "cell_type": "markdown",
      "source": [
        "Preparing the Facebook comments"
      ],
      "metadata": {
        "id": "39ocaCAHewxK"
      }
    },
    {
      "cell_type": "code",
      "source": [
        "#lowercasing the text and removing symbols though RegEx\n",
        "import re\n",
        "fb['fbpost'] = fb['fbpost'].apply(lambda x: x.lower())\n",
        "fb['fbpost'] = fb['fbpost'].apply((lambda x: re.sub('[^a-zA-z0-9\\s]','',x)))"
      ],
      "metadata": {
        "id": "BrMmGYvCcISs"
      },
      "execution_count": 83,
      "outputs": []
    },
    {
      "cell_type": "markdown",
      "source": [
        "With this Neural network, we want to predict, wether a comment is Positive (P) or Negative (N), so the comments with the sentiment labeled Other (O) is of no use to us, so it's removed from the dataset."
      ],
      "metadata": {
        "id": "6IklP6_-e2YB"
      }
    },
    {
      "cell_type": "code",
      "source": [
        "fb = fb[fb.label != \"O\"]"
      ],
      "metadata": {
        "id": "M1ARLv01cLUa"
      },
      "execution_count": 84,
      "outputs": []
    },
    {
      "cell_type": "markdown",
      "source": [
        "Now to tokenize the actual Facebook comments:"
      ],
      "metadata": {
        "id": "8asSZPy_e5Da"
      }
    },
    {
      "cell_type": "code",
      "source": [
        "max_fatures = 2000\n",
        "tokenizer = Tokenizer(num_words=max_fatures, split=' ')\n",
        "tokenizer.fit_on_texts(fb['fbpost'].values)\n",
        "X = tokenizer.texts_to_sequences(fb['fbpost'].values)\n",
        "X = pad_sequences(X)"
      ],
      "metadata": {
        "id": "RydbvvlkcOD6"
      },
      "execution_count": 85,
      "outputs": []
    },
    {
      "cell_type": "markdown",
      "source": [
        "**Preparing the labels**"
      ],
      "metadata": {
        "id": "8fTMCTXVe9IN"
      }
    },
    {
      "cell_type": "markdown",
      "source": [
        "Here the lables are checked after the removel of the \"other\" sentimented comments. Also some preperation to the algorithm, as preparing the test-, and training sets are done."
      ],
      "metadata": {
        "id": "4zJUJGk7fBkQ"
      }
    },
    {
      "cell_type": "code",
      "source": [
        "fb.label.value_counts()"
      ],
      "metadata": {
        "colab": {
          "base_uri": "https://localhost:8080/"
        },
        "id": "iuBbolt5cQ34",
        "outputId": "4e713e1a-984d-4417-8dec-563c32a3536b"
      },
      "execution_count": 86,
      "outputs": [
        {
          "output_type": "execute_result",
          "data": {
            "text/plain": [
              "P    641\n",
              "N     79\n",
              "Name: label, dtype: int64"
            ]
          },
          "metadata": {},
          "execution_count": 86
        }
      ]
    },
    {
      "cell_type": "code",
      "source": [
        "Y = pd.get_dummies(fb['label']).values\n",
        "X_train, X_test, Y_train, Y_test = train_test_split(X,Y, test_size = 0.33, random_state = 42)\n",
        "print(X_train.shape,Y_train.shape)\n",
        "print(X_test.shape,Y_test.shape)"
      ],
      "metadata": {
        "colab": {
          "base_uri": "https://localhost:8080/"
        },
        "id": "j3ulDqqCcUBw",
        "outputId": "ec34533b-0206-4a81-8d13-15ce20908bef"
      },
      "execution_count": 87,
      "outputs": [
        {
          "output_type": "stream",
          "name": "stdout",
          "text": [
            "(482, 203) (482, 2)\n",
            "(238, 203) (238, 2)\n"
          ]
        }
      ]
    },
    {
      "cell_type": "markdown",
      "source": [
        "**The Neural Network**"
      ],
      "metadata": {
        "id": "zWpnq8rHfHM5"
      }
    },
    {
      "cell_type": "markdown",
      "source": [
        "In this section, the algorithm is prepared with following features:\n",
        "\n",
        "1. The model is Sequential\n",
        "2. The model type is an LSTM model"
      ],
      "metadata": {
        "id": "tTc-7fO7fItx"
      }
    },
    {
      "cell_type": "code",
      "source": [
        "embed_dim = 200\n",
        "lstm_out = 200\n",
        "\n",
        "model = Sequential()\n",
        "model.add(Embedding(max_fatures, embed_dim,input_length = X.shape[1]))\n",
        "model.add(SpatialDropout1D(0.4))\n",
        "model.add(LSTM(lstm_out, dropout=0.2, recurrent_dropout=0.2))\n",
        "model.add(Dense(2,activation='softmax'))\n",
        "model.compile(loss = 'categorical_crossentropy', optimizer='adam',metrics = ['accuracy'])\n",
        "print(model.summary())"
      ],
      "metadata": {
        "colab": {
          "base_uri": "https://localhost:8080/"
        },
        "id": "XJlF985TcXDi",
        "outputId": "bbda9b87-dced-4fd1-c885-2e896f7d7f2a"
      },
      "execution_count": 88,
      "outputs": [
        {
          "output_type": "stream",
          "name": "stdout",
          "text": [
            "Model: \"sequential_13\"\n",
            "_________________________________________________________________\n",
            " Layer (type)                Output Shape              Param #   \n",
            "=================================================================\n",
            " embedding_2 (Embedding)     (None, 203, 200)          400000    \n",
            "                                                                 \n",
            " spatial_dropout1d_2 (Spatia  (None, 203, 200)         0         \n",
            " lDropout1D)                                                     \n",
            "                                                                 \n",
            " lstm_2 (LSTM)               (None, 200)               320800    \n",
            "                                                                 \n",
            " dense_2 (Dense)             (None, 2)                 402       \n",
            "                                                                 \n",
            "=================================================================\n",
            "Total params: 721,202\n",
            "Trainable params: 721,202\n",
            "Non-trainable params: 0\n",
            "_________________________________________________________________\n",
            "None\n"
          ]
        }
      ]
    },
    {
      "cell_type": "code",
      "source": [
        "# Here we train the model\n",
        "batch_size = 32\n",
        "hist = model.fit(X_train, Y_train, epochs = 7, batch_size=batch_size, verbose = 2)"
      ],
      "metadata": {
        "colab": {
          "base_uri": "https://localhost:8080/"
        },
        "id": "nhC6oP9Ucbh4",
        "outputId": "10f2b5ff-d90d-42ec-a5fe-3d636869b038"
      },
      "execution_count": 89,
      "outputs": [
        {
          "output_type": "stream",
          "name": "stdout",
          "text": [
            "Epoch 1/7\n",
            "16/16 - 20s - loss: 0.4484 - accuracy: 0.8610 - 20s/epoch - 1s/step\n",
            "Epoch 2/7\n",
            "16/16 - 17s - loss: 0.3048 - accuracy: 0.8963 - 17s/epoch - 1s/step\n",
            "Epoch 3/7\n",
            "16/16 - 17s - loss: 0.2650 - accuracy: 0.8983 - 17s/epoch - 1s/step\n",
            "Epoch 4/7\n",
            "16/16 - 18s - loss: 0.1993 - accuracy: 0.9315 - 18s/epoch - 1s/step\n",
            "Epoch 5/7\n",
            "16/16 - 17s - loss: 0.1143 - accuracy: 0.9585 - 17s/epoch - 1s/step\n",
            "Epoch 6/7\n",
            "16/16 - 18s - loss: 0.0887 - accuracy: 0.9647 - 18s/epoch - 1s/step\n",
            "Epoch 7/7\n",
            "16/16 - 17s - loss: 0.0435 - accuracy: 0.9917 - 17s/epoch - 1s/step\n"
          ]
        }
      ]
    },
    {
      "cell_type": "code",
      "source": [
        "#Plotting a histogram over the 7 epocs and plotting the accuracy and loss\n",
        "history = pd.DataFrame(hist.history)\n",
        "plt.figure(figsize=(7,7));\n",
        "plt.plot(history[\"loss\"]);\n",
        "plt.plot(history[\"accuracy\"]);\n",
        "plt.title(\"Loss and accuracy of model\");\n",
        "plt.show();\n"
      ],
      "metadata": {
        "colab": {
          "base_uri": "https://localhost:8080/",
          "height": 444
        },
        "id": "4KevhDHHc_PH",
        "outputId": "27271cf8-49cb-4bb0-f8cb-54d168a1d519"
      },
      "execution_count": 93,
      "outputs": [
        {
          "output_type": "display_data",
          "data": {
            "text/plain": [
              "<Figure size 504x504 with 1 Axes>"
            ],
            "image/png": "[encoded data removed]"
          },
          "metadata": {
            "needs_background": "light"
          }
        }
      ]
    },
    {
      "cell_type": "code",
      "source": [
        "#Testing the model, and retrieveing score and accuracy:\n",
        "score,acc = model.evaluate(X_test,Y_test)\n",
        "print(\"score: %.2f\" % (score))\n",
        "print(\"accuracy: %.2f\" % (acc))"
      ],
      "metadata": {
        "colab": {
          "base_uri": "https://localhost:8080/"
        },
        "id": "s7RShbTOduGZ",
        "outputId": "803ba568-c833-4488-a644-63d1fdfe7fd6"
      },
      "execution_count": 94,
      "outputs": [
        {
          "output_type": "stream",
          "name": "stdout",
          "text": [
            "8/8 [==============================] - 2s 132ms/step - loss: 0.4590 - accuracy: 0.8866\n",
            "score: 0.46\n",
            "accuracy: 0.89\n"
          ]
        }
      ]
    },
    {
      "cell_type": "code",
      "source": [
        "#now we validate for the models accuracy in predicting either a positive, or a negative score:\n",
        "validation_size = 1500\n",
        "\n",
        "X_validate = X_test[-validation_size:]\n",
        "Y_validate = Y_test[-validation_size:]\n",
        "x_test = X_test[:-validation_size]\n",
        "y_test = Y_test[:-validation_size]"
      ],
      "metadata": {
        "id": "k9KpfUH0duOb"
      },
      "execution_count": 95,
      "outputs": []
    },
    {
      "cell_type": "code",
      "source": [
        "pos_cnt, neg_cnt, pos_correct, neg_correct = 0, 0, 0, 0\n",
        "for x in range(len(X_validate)):\n",
        "    result = model.predict(X_validate[x].reshape(1,x_test.shape[1]),verbose = 2)[0]\n",
        "    if np.argmax(result) == np.argmax(Y_validate[x]):\n",
        "        if np.argmax(Y_validate[x]) == 0:\n",
        "            neg_correct += 1\n",
        "        else:\n",
        "            pos_correct += 1\n",
        "    if np.argmax(Y_validate[x]) == 0:\n",
        "        neg_cnt += 1\n",
        "    else:\n",
        "        pos_cnt += 1\n",
        "print(\"positive_acc\", pos_correct/pos_cnt*100, \"%\")\n",
        "print(\"negative_acc\", neg_correct/neg_cnt*100, \"%\")"
      ],
      "metadata": {
        "colab": {
          "base_uri": "https://localhost:8080/"
        },
        "id": "W9e_Uigfd1my",
        "outputId": "cf1ee596-a48f-4d18-8089-709d4f319535"
      },
      "execution_count": 96,
      "outputs": [
        {
          "output_type": "stream",
          "name": "stdout",
          "text": [
            "1/1 - 0s - 364ms/epoch - 364ms/step\n",
            "1/1 - 0s - 75ms/epoch - 75ms/step\n",
            "1/1 - 0s - 74ms/epoch - 74ms/step\n",
            "1/1 - 0s - 86ms/epoch - 86ms/step\n",
            "1/1 - 0s - 73ms/epoch - 73ms/step\n",
            "1/1 - 0s - 80ms/epoch - 80ms/step\n",
            "1/1 - 0s - 74ms/epoch - 74ms/step\n",
            "1/1 - 0s - 74ms/epoch - 74ms/step\n",
            "1/1 - 0s - 84ms/epoch - 84ms/step\n",
            "1/1 - 0s - 77ms/epoch - 77ms/step\n",
            "1/1 - 0s - 75ms/epoch - 75ms/step\n",
            "1/1 - 0s - 78ms/epoch - 78ms/step\n",
            "1/1 - 0s - 72ms/epoch - 72ms/step\n",
            "1/1 - 0s - 75ms/epoch - 75ms/step\n",
            "1/1 - 0s - 76ms/epoch - 76ms/step\n",
            "1/1 - 0s - 75ms/epoch - 75ms/step\n",
            "1/1 - 0s - 81ms/epoch - 81ms/step\n",
            "1/1 - 0s - 80ms/epoch - 80ms/step\n",
            "1/1 - 0s - 77ms/epoch - 77ms/step\n",
            "1/1 - 0s - 81ms/epoch - 81ms/step\n",
            "1/1 - 0s - 71ms/epoch - 71ms/step\n",
            "1/1 - 0s - 72ms/epoch - 72ms/step\n",
            "1/1 - 0s - 78ms/epoch - 78ms/step\n",
            "1/1 - 0s - 73ms/epoch - 73ms/step\n",
            "1/1 - 0s - 73ms/epoch - 73ms/step\n",
            "1/1 - 0s - 78ms/epoch - 78ms/step\n",
            "1/1 - 0s - 78ms/epoch - 78ms/step\n",
            "1/1 - 0s - 75ms/epoch - 75ms/step\n",
            "1/1 - 0s - 74ms/epoch - 74ms/step\n",
            "1/1 - 0s - 76ms/epoch - 76ms/step\n",
            "1/1 - 0s - 75ms/epoch - 75ms/step\n",
            "1/1 - 0s - 84ms/epoch - 84ms/step\n",
            "1/1 - 0s - 73ms/epoch - 73ms/step\n",
            "1/1 - 0s - 87ms/epoch - 87ms/step\n",
            "1/1 - 0s - 75ms/epoch - 75ms/step\n",
            "1/1 - 0s - 84ms/epoch - 84ms/step\n",
            "1/1 - 0s - 75ms/epoch - 75ms/step\n",
            "1/1 - 0s - 97ms/epoch - 97ms/step\n",
            "1/1 - 0s - 75ms/epoch - 75ms/step\n",
            "1/1 - 0s - 90ms/epoch - 90ms/step\n",
            "1/1 - 0s - 74ms/epoch - 74ms/step\n",
            "1/1 - 0s - 74ms/epoch - 74ms/step\n",
            "1/1 - 0s - 73ms/epoch - 73ms/step\n",
            "1/1 - 0s - 75ms/epoch - 75ms/step\n",
            "1/1 - 0s - 84ms/epoch - 84ms/step\n",
            "1/1 - 0s - 83ms/epoch - 83ms/step\n",
            "1/1 - 0s - 77ms/epoch - 77ms/step\n",
            "1/1 - 0s - 71ms/epoch - 71ms/step\n",
            "1/1 - 0s - 82ms/epoch - 82ms/step\n",
            "1/1 - 0s - 74ms/epoch - 74ms/step\n",
            "1/1 - 0s - 74ms/epoch - 74ms/step\n",
            "1/1 - 0s - 77ms/epoch - 77ms/step\n",
            "1/1 - 0s - 75ms/epoch - 75ms/step\n",
            "1/1 - 0s - 89ms/epoch - 89ms/step\n",
            "1/1 - 0s - 75ms/epoch - 75ms/step\n",
            "1/1 - 0s - 79ms/epoch - 79ms/step\n",
            "1/1 - 0s - 76ms/epoch - 76ms/step\n",
            "1/1 - 0s - 73ms/epoch - 73ms/step\n",
            "1/1 - 0s - 76ms/epoch - 76ms/step\n",
            "1/1 - 0s - 78ms/epoch - 78ms/step\n",
            "1/1 - 0s - 72ms/epoch - 72ms/step\n",
            "1/1 - 0s - 74ms/epoch - 74ms/step\n",
            "1/1 - 0s - 88ms/epoch - 88ms/step\n",
            "1/1 - 0s - 80ms/epoch - 80ms/step\n",
            "1/1 - 0s - 78ms/epoch - 78ms/step\n",
            "1/1 - 0s - 71ms/epoch - 71ms/step\n",
            "1/1 - 0s - 72ms/epoch - 72ms/step\n",
            "1/1 - 0s - 79ms/epoch - 79ms/step\n",
            "1/1 - 0s - 75ms/epoch - 75ms/step\n",
            "1/1 - 0s - 74ms/epoch - 74ms/step\n",
            "1/1 - 0s - 80ms/epoch - 80ms/step\n",
            "1/1 - 0s - 87ms/epoch - 87ms/step\n",
            "1/1 - 0s - 74ms/epoch - 74ms/step\n",
            "1/1 - 0s - 74ms/epoch - 74ms/step\n",
            "1/1 - 0s - 77ms/epoch - 77ms/step\n",
            "1/1 - 0s - 77ms/epoch - 77ms/step\n",
            "1/1 - 0s - 73ms/epoch - 73ms/step\n",
            "1/1 - 0s - 76ms/epoch - 76ms/step\n",
            "1/1 - 0s - 72ms/epoch - 72ms/step\n",
            "1/1 - 0s - 74ms/epoch - 74ms/step\n",
            "1/1 - 0s - 86ms/epoch - 86ms/step\n",
            "1/1 - 0s - 72ms/epoch - 72ms/step\n",
            "1/1 - 0s - 71ms/epoch - 71ms/step\n",
            "1/1 - 0s - 74ms/epoch - 74ms/step\n",
            "1/1 - 0s - 72ms/epoch - 72ms/step\n",
            "1/1 - 0s - 73ms/epoch - 73ms/step\n",
            "1/1 - 0s - 76ms/epoch - 76ms/step\n",
            "1/1 - 0s - 72ms/epoch - 72ms/step\n",
            "1/1 - 0s - 74ms/epoch - 74ms/step\n",
            "1/1 - 0s - 88ms/epoch - 88ms/step\n",
            "1/1 - 0s - 79ms/epoch - 79ms/step\n",
            "1/1 - 0s - 79ms/epoch - 79ms/step\n",
            "1/1 - 0s - 71ms/epoch - 71ms/step\n",
            "1/1 - 0s - 78ms/epoch - 78ms/step\n",
            "1/1 - 0s - 78ms/epoch - 78ms/step\n",
            "1/1 - 0s - 73ms/epoch - 73ms/step\n",
            "1/1 - 0s - 72ms/epoch - 72ms/step\n",
            "1/1 - 0s - 77ms/epoch - 77ms/step\n",
            "1/1 - 0s - 86ms/epoch - 86ms/step\n",
            "1/1 - 0s - 71ms/epoch - 71ms/step\n",
            "1/1 - 0s - 69ms/epoch - 69ms/step\n",
            "1/1 - 0s - 74ms/epoch - 74ms/step\n",
            "1/1 - 0s - 72ms/epoch - 72ms/step\n",
            "1/1 - 0s - 75ms/epoch - 75ms/step\n",
            "1/1 - 0s - 80ms/epoch - 80ms/step\n",
            "1/1 - 0s - 73ms/epoch - 73ms/step\n",
            "1/1 - 0s - 81ms/epoch - 81ms/step\n",
            "1/1 - 0s - 85ms/epoch - 85ms/step\n",
            "1/1 - 0s - 90ms/epoch - 90ms/step\n",
            "1/1 - 0s - 82ms/epoch - 82ms/step\n",
            "1/1 - 0s - 71ms/epoch - 71ms/step\n",
            "1/1 - 0s - 73ms/epoch - 73ms/step\n",
            "1/1 - 0s - 80ms/epoch - 80ms/step\n",
            "1/1 - 0s - 76ms/epoch - 76ms/step\n",
            "1/1 - 0s - 72ms/epoch - 72ms/step\n",
            "1/1 - 0s - 72ms/epoch - 72ms/step\n",
            "1/1 - 0s - 84ms/epoch - 84ms/step\n",
            "1/1 - 0s - 76ms/epoch - 76ms/step\n",
            "1/1 - 0s - 70ms/epoch - 70ms/step\n",
            "1/1 - 0s - 74ms/epoch - 74ms/step\n",
            "1/1 - 0s - 87ms/epoch - 87ms/step\n",
            "1/1 - 0s - 76ms/epoch - 76ms/step\n",
            "1/1 - 0s - 79ms/epoch - 79ms/step\n",
            "1/1 - 0s - 74ms/epoch - 74ms/step\n",
            "1/1 - 0s - 78ms/epoch - 78ms/step\n",
            "1/1 - 0s - 85ms/epoch - 85ms/step\n",
            "1/1 - 0s - 83ms/epoch - 83ms/step\n",
            "1/1 - 0s - 74ms/epoch - 74ms/step\n",
            "1/1 - 0s - 97ms/epoch - 97ms/step\n",
            "1/1 - 0s - 75ms/epoch - 75ms/step\n",
            "1/1 - 0s - 81ms/epoch - 81ms/step\n",
            "1/1 - 0s - 70ms/epoch - 70ms/step\n",
            "1/1 - 0s - 76ms/epoch - 76ms/step\n",
            "1/1 - 0s - 74ms/epoch - 74ms/step\n",
            "1/1 - 0s - 90ms/epoch - 90ms/step\n",
            "1/1 - 0s - 72ms/epoch - 72ms/step\n",
            "1/1 - 0s - 72ms/epoch - 72ms/step\n",
            "1/1 - 0s - 75ms/epoch - 75ms/step\n",
            "1/1 - 0s - 82ms/epoch - 82ms/step\n",
            "1/1 - 0s - 76ms/epoch - 76ms/step\n",
            "1/1 - 0s - 75ms/epoch - 75ms/step\n",
            "1/1 - 0s - 76ms/epoch - 76ms/step\n",
            "1/1 - 0s - 75ms/epoch - 75ms/step\n",
            "1/1 - 0s - 98ms/epoch - 98ms/step\n",
            "1/1 - 0s - 74ms/epoch - 74ms/step\n",
            "1/1 - 0s - 74ms/epoch - 74ms/step\n",
            "1/1 - 0s - 74ms/epoch - 74ms/step\n",
            "1/1 - 0s - 78ms/epoch - 78ms/step\n",
            "1/1 - 0s - 73ms/epoch - 73ms/step\n",
            "1/1 - 0s - 72ms/epoch - 72ms/step\n",
            "1/1 - 0s - 77ms/epoch - 77ms/step\n",
            "1/1 - 0s - 74ms/epoch - 74ms/step\n",
            "1/1 - 0s - 88ms/epoch - 88ms/step\n",
            "1/1 - 0s - 71ms/epoch - 71ms/step\n",
            "1/1 - 0s - 74ms/epoch - 74ms/step\n",
            "1/1 - 0s - 78ms/epoch - 78ms/step\n",
            "1/1 - 0s - 76ms/epoch - 76ms/step\n",
            "1/1 - 0s - 74ms/epoch - 74ms/step\n",
            "1/1 - 0s - 74ms/epoch - 74ms/step\n",
            "1/1 - 0s - 74ms/epoch - 74ms/step\n",
            "1/1 - 0s - 74ms/epoch - 74ms/step\n",
            "1/1 - 0s - 85ms/epoch - 85ms/step\n",
            "1/1 - 0s - 72ms/epoch - 72ms/step\n",
            "1/1 - 0s - 73ms/epoch - 73ms/step\n",
            "1/1 - 0s - 78ms/epoch - 78ms/step\n",
            "1/1 - 0s - 74ms/epoch - 74ms/step\n",
            "1/1 - 0s - 75ms/epoch - 75ms/step\n",
            "1/1 - 0s - 74ms/epoch - 74ms/step\n",
            "1/1 - 0s - 76ms/epoch - 76ms/step\n",
            "1/1 - 0s - 76ms/epoch - 76ms/step\n",
            "1/1 - 0s - 85ms/epoch - 85ms/step\n",
            "1/1 - 0s - 76ms/epoch - 76ms/step\n",
            "1/1 - 0s - 71ms/epoch - 71ms/step\n",
            "1/1 - 0s - 78ms/epoch - 78ms/step\n",
            "1/1 - 0s - 77ms/epoch - 77ms/step\n",
            "1/1 - 0s - 72ms/epoch - 72ms/step\n",
            "1/1 - 0s - 84ms/epoch - 84ms/step\n",
            "1/1 - 0s - 75ms/epoch - 75ms/step\n",
            "1/1 - 0s - 80ms/epoch - 80ms/step\n",
            "1/1 - 0s - 86ms/epoch - 86ms/step\n",
            "1/1 - 0s - 76ms/epoch - 76ms/step\n",
            "1/1 - 0s - 74ms/epoch - 74ms/step\n",
            "1/1 - 0s - 77ms/epoch - 77ms/step\n",
            "1/1 - 0s - 75ms/epoch - 75ms/step\n",
            "1/1 - 0s - 75ms/epoch - 75ms/step\n",
            "1/1 - 0s - 75ms/epoch - 75ms/step\n",
            "1/1 - 0s - 78ms/epoch - 78ms/step\n",
            "1/1 - 0s - 73ms/epoch - 73ms/step\n",
            "1/1 - 0s - 90ms/epoch - 90ms/step\n",
            "1/1 - 0s - 71ms/epoch - 71ms/step\n",
            "1/1 - 0s - 72ms/epoch - 72ms/step\n",
            "1/1 - 0s - 74ms/epoch - 74ms/step\n",
            "1/1 - 0s - 80ms/epoch - 80ms/step\n",
            "1/1 - 0s - 74ms/epoch - 74ms/step\n",
            "1/1 - 0s - 73ms/epoch - 73ms/step\n",
            "1/1 - 0s - 72ms/epoch - 72ms/step\n",
            "1/1 - 0s - 74ms/epoch - 74ms/step\n",
            "1/1 - 0s - 86ms/epoch - 86ms/step\n",
            "1/1 - 0s - 75ms/epoch - 75ms/step\n",
            "1/1 - 0s - 74ms/epoch - 74ms/step\n",
            "1/1 - 0s - 84ms/epoch - 84ms/step\n",
            "1/1 - 0s - 75ms/epoch - 75ms/step\n",
            "1/1 - 0s - 75ms/epoch - 75ms/step\n",
            "1/1 - 0s - 74ms/epoch - 74ms/step\n",
            "1/1 - 0s - 79ms/epoch - 79ms/step\n",
            "1/1 - 0s - 76ms/epoch - 76ms/step\n",
            "1/1 - 0s - 83ms/epoch - 83ms/step\n",
            "1/1 - 0s - 75ms/epoch - 75ms/step\n",
            "1/1 - 0s - 83ms/epoch - 83ms/step\n",
            "1/1 - 0s - 74ms/epoch - 74ms/step\n",
            "1/1 - 0s - 73ms/epoch - 73ms/step\n",
            "1/1 - 0s - 71ms/epoch - 71ms/step\n",
            "1/1 - 0s - 78ms/epoch - 78ms/step\n",
            "1/1 - 0s - 72ms/epoch - 72ms/step\n",
            "1/1 - 0s - 74ms/epoch - 74ms/step\n",
            "1/1 - 0s - 85ms/epoch - 85ms/step\n",
            "1/1 - 0s - 73ms/epoch - 73ms/step\n",
            "1/1 - 0s - 76ms/epoch - 76ms/step\n",
            "1/1 - 0s - 72ms/epoch - 72ms/step\n",
            "1/1 - 0s - 74ms/epoch - 74ms/step\n",
            "1/1 - 0s - 76ms/epoch - 76ms/step\n",
            "1/1 - 0s - 84ms/epoch - 84ms/step\n",
            "1/1 - 0s - 77ms/epoch - 77ms/step\n",
            "1/1 - 0s - 74ms/epoch - 74ms/step\n",
            "1/1 - 0s - 84ms/epoch - 84ms/step\n",
            "1/1 - 0s - 79ms/epoch - 79ms/step\n",
            "1/1 - 0s - 75ms/epoch - 75ms/step\n",
            "1/1 - 0s - 70ms/epoch - 70ms/step\n",
            "1/1 - 0s - 74ms/epoch - 74ms/step\n",
            "1/1 - 0s - 71ms/epoch - 71ms/step\n",
            "1/1 - 0s - 70ms/epoch - 70ms/step\n",
            "1/1 - 0s - 70ms/epoch - 70ms/step\n",
            "1/1 - 0s - 72ms/epoch - 72ms/step\n",
            "1/1 - 0s - 75ms/epoch - 75ms/step\n",
            "1/1 - 0s - 73ms/epoch - 73ms/step\n",
            "1/1 - 0s - 73ms/epoch - 73ms/step\n",
            "1/1 - 0s - 72ms/epoch - 72ms/step\n",
            "1/1 - 0s - 70ms/epoch - 70ms/step\n",
            "positive_acc 99.52153110047847 %\n",
            "negative_acc 10.344827586206897 %\n"
          ]
        }
      ]
    },
    {
      "cell_type": "code",
      "source": [
        "#now testing  on a random sample from the Facebook comments on Kindle's page:\n",
        "cmnt = ['your customer service is the absolute worst i now have a mess of books on my kindle']\n",
        "#vectorizing the comment\n",
        "cmnt = tokenizer.texts_to_sequences(cmnt)\n",
        "cmnt = pad_sequences(cmnt, maxlen=203, dtype='int32', value=0)\n",
        "print(cmnt)\n",
        "sentiment = model.predict(cmnt,batch_size=2,verbose = 2)[0]\n",
        "if(np.argmax(sentiment) == 0):\n",
        "    print(\"negative\")\n",
        "elif (np.argmax(sentiment) == 1):\n",
        "    print(\"positive\")"
      ],
      "metadata": {
        "colab": {
          "base_uri": "https://localhost:8080/"
        },
        "id": "vihg5-oNeD5X",
        "outputId": "6ae2c5a6-730c-4d1a-be43-eb0cc740267a"
      },
      "execution_count": 97,
      "outputs": [
        {
          "output_type": "stream",
          "name": "stdout",
          "text": [
            "[[  0   0   0   0   0   0   0   0   0   0   0   0   0   0   0   0   0   0\n",
            "    0   0   0   0   0   0   0   0   0   0   0   0   0   0   0   0   0   0\n",
            "    0   0   0   0   0   0   0   0   0   0   0   0   0   0   0   0   0   0\n",
            "    0   0   0   0   0   0   0   0   0   0   0   0   0   0   0   0   0   0\n",
            "    0   0   0   0   0   0   0   0   0   0   0   0   0   0   0   0   0   0\n",
            "    0   0   0   0   0   0   0   0   0   0   0   0   0   0   0   0   0   0\n",
            "    0   0   0   0   0   0   0   0   0   0   0   0   0   0   0   0   0   0\n",
            "    0   0   0   0   0   0   0   0   0   0   0   0   0   0   0   0   0   0\n",
            "    0   0   0   0   0   0   0   0   0   0   0   0   0   0   0   0   0   0\n",
            "    0   0   0   0   0   0   0   0   0   0   0   0   0   0   0   0   0   0\n",
            "    0   0   0   0   0   0   0   0  51 510 674  12   2 895   1  69  11   6\n",
            "   13  16  20   3   4]]\n",
            "1/1 - 0s - 72ms/epoch - 72ms/step\n",
            "positive\n"
          ]
        }
      ]
    },
    {
      "cell_type": "markdown",
      "source": [
        "What went wrong?\n",
        "\n",
        "Our sample size for the training-, and test set was in fact quite small (under 1000 comments), and the proportion of negative to positive comments was skewed about 1 to 9. So the algorithm was not really optimized on the basis of our data. This is the reason for the algorithm choosing the wrong sentiment in the sample-test above"
      ],
      "metadata": {
        "id": "baFKXdREeO3K"
      }
    }
  ]
}