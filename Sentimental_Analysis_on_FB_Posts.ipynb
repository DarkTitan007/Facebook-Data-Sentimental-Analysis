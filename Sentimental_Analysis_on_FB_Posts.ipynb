{
  "nbformat": 4,
  "nbformat_minor": 0,
  "metadata": {
    "colab": {
      "provenance": [],
      "authorship_tag": "ABX9TyMGw9O1lq0g11X/8P9nWRSZ",
      "include_colab_link": true
    },
    "kernelspec": {
      "name": "python3",
      "display_name": "Python 3"
    },
    "language_info": {
      "name": "python"
    }
  },
  "cells": [
    {
      "cell_type": "markdown",
      "metadata": {
        "id": "view-in-github",
        "colab_type": "text"
      },
      "source": [
        "<a href=\"https://colab.research.google.com/github/DarkTitan007/Facebook-Data-Sentimental-Analysis/blob/main/Sentimental_Analysis_on_FB_Posts.ipynb\" target=\"_parent\"><img src=\"https://colab.research.google.com/assets/colab-badge.svg\" alt=\"Open In Colab\"/></a>"
      ]
    },
    {
      "cell_type": "code",
      "source": [
        "import pandas as pd\n",
        "import numpy as np\n",
        "import nltk\n",
        "from nltk.sentiment import SentimentIntensityAnalyzer\n",
        "nltk.download('vader_lexicon')"
      ],
      "metadata": {
        "colab": {
          "base_uri": "https://localhost:8080/"
        },
        "id": "VycVmAPRr4lA",
        "outputId": "658d68ec-05aa-41d0-e23d-21efc69d5f1a"
      },
      "execution_count": 1,
      "outputs": [
        {
          "output_type": "stream",
          "name": "stderr",
          "text": [
            "[nltk_data] Downloading package vader_lexicon to /root/nltk_data...\n"
          ]
        },
        {
          "output_type": "execute_result",
          "data": {
            "text/plain": [
              "True"
            ]
          },
          "metadata": {},
          "execution_count": 1
        }
      ]
    },
    {
      "cell_type": "markdown",
      "source": [
        "First, we will start by importing the necessary libraries for this analysis:"
      ],
      "metadata": {
        "id": "iwf-dKFLsCXK"
      }
    },
    {
      "cell_type": "markdown",
      "source": [
        "Next, we will import the dataset of Facebook posts. In this example, we will assume that the dataset is in a CSV file named \"facebook_sentiments.csv\" and is stored in the same directory as the code."
      ],
      "metadata": {
        "id": "F-Tb4YrZsHxD"
      }
    },
    {
      "cell_type": "code",
      "source": [
        "df = pd.read_csv('/content/fb_sentiment.csv')"
      ],
      "metadata": {
        "id": "QfdjcHZrsJYS"
      },
      "execution_count": 3,
      "outputs": []
    },
    {
      "cell_type": "markdown",
      "source": [
        "Now, we will create a new column in the dataset to store the sentiment analysis results."
      ],
      "metadata": {
        "id": "xTK2-9SOsZ6x"
      }
    },
    {
      "cell_type": "code",
      "source": [
        "df['sentiment'] = np.nan"
      ],
      "metadata": {
        "id": "i4vqL5aUsb9N"
      },
      "execution_count": 4,
      "outputs": []
    },
    {
      "cell_type": "markdown",
      "source": [
        "We will then initialize the SentimentIntensityAnalyzer object and loop through each row of the dataset to analyze the sentiment of the post."
      ],
      "metadata": {
        "id": "Eq74H4UTsebH"
      }
    },
    {
      "cell_type": "code",
      "source": [
        "df.columns"
      ],
      "metadata": {
        "colab": {
          "base_uri": "https://localhost:8080/"
        },
        "id": "229hzvhEsf9T",
        "outputId": "bc456c4a-3694-4946-ce15-12067355a066"
      },
      "execution_count": 7,
      "outputs": [
        {
          "output_type": "execute_result",
          "data": {
            "text/plain": [
              "Index(['Unnamed: 0', 'FBPost', 'Label', 'sentiment'], dtype='object')"
            ]
          },
          "metadata": {},
          "execution_count": 7
        }
      ]
    },
    {
      "cell_type": "code",
      "source": [
        "sia = SentimentIntensityAnalyzer()\n",
        "if 'FBPost' in df.columns:\n",
        "  sentiment = sia.polarity_scores(row['FBPost'])\n",
        "  df.at[index, 'sentiment'] = sentiment['compound']\n",
        "else:\n",
        "  print(\"Column 'post' does not exist in the dataframe.\")"
      ],
      "metadata": {
        "id": "bwZMnxU3t2db"
      },
      "execution_count": 13,
      "outputs": []
    },
    {
      "cell_type": "markdown",
      "source": [
        "The 'compound' score ranges between -1 and 1, where -1 is extremely negative, 0 is neutral, and 1 is extremely positive.\n",
        "\n",
        "Finally, we will print the average sentiment of all the posts in the dataset."
      ],
      "metadata": {
        "id": "ABs3gS8GvPta"
      }
    },
    {
      "cell_type": "code",
      "source": [
        "average_sentiment = df['sentiment'].mean()\n",
        "print(\"Average sentiment of all posts: \", average_sentiment)"
      ],
      "metadata": {
        "id": "SW__cUJtvRoQ",
        "outputId": "f9e127c5-998d-4d08-be5e-8027d8aa0a20",
        "colab": {
          "base_uri": "https://localhost:8080/"
        }
      },
      "execution_count": 12,
      "outputs": [
        {
          "output_type": "stream",
          "name": "stdout",
          "text": [
            "Average sentiment of all posts:  nan\n"
          ]
        }
      ]
    },
    {
      "cell_type": "markdown",
      "source": [
        "This is the full code for performing sentiment analysis on a dataset of Facebook posts using Google Colab and the NLTK library."
      ],
      "metadata": {
        "id": "ERwxMPh-vdcw"
      }
    }
  ]
}